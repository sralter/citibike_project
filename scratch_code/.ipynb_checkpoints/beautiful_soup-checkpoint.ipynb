{
 "cells": [
  {
   "cell_type": "markdown",
   "id": "2db7c15e-2304-4e8c-aded-81b60899110b",
   "metadata": {},
   "source": [
    "# Citibike Project"
   ]
  },
  {
   "cell_type": "markdown",
   "id": "0b60525d-2138-4227-bae9-fccfc119d23f",
   "metadata": {},
   "source": [
    "My goal is to use the [Citibike dataset](https://ride.citibikenyc.com/system-data) as the subject with which to practice SQL and Python.\n",
    "\n",
    "First, I will need to download the data from the website. I will attempt to do this with `BeautifulSoup`.\n",
    "\n",
    "Then I will use SQL within Python to query the dataset.\n",
    "\n",
    "Future tasks will include creating a map of the rides throughout the city, to start."
   ]
  },
  {
   "cell_type": "markdown",
   "id": "19e70295-2c38-426c-a1f8-2bb38d279ba9",
   "metadata": {},
   "source": [
    "## Imports"
   ]
  },
  {
   "cell_type": "code",
   "execution_count": 22,
   "id": "a70b1f16-ab15-4db7-96a3-b7510382dcad",
   "metadata": {},
   "outputs": [],
   "source": [
    "import requests\n",
    "from bs4 import BeautifulSoup"
   ]
  },
  {
   "cell_type": "markdown",
   "id": "848d1bcc-87d6-454a-a3b3-9342988eb63e",
   "metadata": {},
   "source": [
    "### BeautifulSoup webcrawler"
   ]
  },
  {
   "cell_type": "code",
   "execution_count": 6,
   "id": "f25ade85-275c-4e17-937b-e1ec44857e2a",
   "metadata": {},
   "outputs": [],
   "source": [
    "# url of the citibike tripdata\n",
    "url = \"https://s3.amazonaws.com/tripdata/index.html\"\n"
   ]
  },
  {
   "cell_type": "code",
   "execution_count": 10,
   "id": "89b38bdf-56fc-4df5-83f5-404b9d9857a9",
   "metadata": {},
   "outputs": [
    {
     "data": {
      "text/plain": [
       "'https://s3.amazonaws.com/tripdata/index.html'"
      ]
     },
     "execution_count": 10,
     "metadata": {},
     "output_type": "execute_result"
    }
   ],
   "source": [
    "# sanity check - check object\n",
    "url"
   ]
  },
  {
   "cell_type": "code",
   "execution_count": 11,
   "id": "cc26d25b-3949-4f0d-8738-299a7e05c999",
   "metadata": {},
   "outputs": [],
   "source": [
    "# Send a get request and assign the response to a variable\n",
    "response = requests.get(url)"
   ]
  },
  {
   "cell_type": "code",
   "execution_count": 13,
   "id": "5c85e305-4562-4203-ab2d-fa4113c71797",
   "metadata": {},
   "outputs": [
    {
     "data": {
      "text/plain": [
       "<Response [200]>"
      ]
     },
     "execution_count": 13,
     "metadata": {},
     "output_type": "execute_result"
    }
   ],
   "source": [
    "# check class object\n",
    "response"
   ]
  },
  {
   "cell_type": "code",
   "execution_count": 15,
   "id": "13c1ff48-2c9f-4cf5-a360-27f384d7a3a2",
   "metadata": {
    "collapsed": true,
    "jupyter": {
     "outputs_hidden": true
    },
    "tags": []
   },
   "outputs": [
    {
     "data": {
      "text/plain": [
       "b'<html>\\r\\n    <head>\\r\\n  <!--\\r\\n\\r\\n  Amazon S3 Bucket listing.\\r\\n\\r\\n\\r\\n  Copyright (C) 2008 Francesco Pasqualini\\r\\n\\r\\n      This program is free software: you can redistribute it and/or modify\\r\\n      it under the terms of the GNU General Public License as published by\\r\\n      the Free Software Foundation, either version 3 of the License, or\\r\\n      (at your option) any later version.\\r\\n\\r\\n      This program is distributed in the hope that it will be useful,\\r\\n      but WITHOUT ANY WARRANTY; without even the implied warranty of\\r\\n      MERCHANTABILITY or FITNESS FOR A PARTICULAR PURPOSE.  See the\\r\\n      GNU General Public License for more details.\\r\\n\\r\\n      You should have received a copy of the GNU General Public License\\r\\n      along with this program.  If not, see <http://www.gnu.org/licenses/>.\\r\\n\\r\\n  -->\\r\\n  <!--\\r\\n\\r\\n  Modified by Nolan Lawson!  (http://nolanlawson.com).  I\\'m keeping the spirit of the\\r\\n  GPL alive by issuing this with the same license!\\r\\n\\r\\n  -->\\r\\n\\r\\n      <title>Bucket loading...</title>\\r\\n      <link href=\"//netdna.bootstrapcdn.com/bootstrap/2.3.2/css/bootstrap.min.css\" rel=\"stylesheet\"/>\\r\\n      <style>\\r\\n        .hide-while-loading {\\r\\n          display:none;\\r\\n        }\\r\\n        .i-expand-collapse {\\r\\n          opacity: 0.3;\\r\\n        }\\r\\n        .i-file-or-folder {\\r\\n          margin-right: 4px;\\r\\n        }\\r\\n      </style>\\r\\n\\r\\n      <script src=\"//ajax.googleapis.com/ajax/libs/jquery/1.8.3/jquery.min.js\"></script>\\r\\n      <script src=\"//cdnjs.cloudflare.com/ajax/libs/handlebars.js/1.1.2/handlebars.min.js\"></script>\\r\\n      <script src=\"//cdnjs.cloudflare.com/ajax/libs/moment.js/2.4.0/moment.min.js\"></script>\\r\\n    </head>\\r\\n    <body>\\r\\n\\r\\n      <div class=\"container\">\\r\\n      <h1 id=\"h1-title\">Bucket loading...</h1>\\r\\n      <table class=\"hide-while-loading table table-striped\">\\r\\n        <thead>\\r\\n          <tr>\\r\\n            <th>Name</th>\\r\\n            <th>Date Modified</th>\\r\\n            <th>Size</th>\\r\\n            <th>Type</th>\\r\\n          </tr>\\r\\n        </thead>\\r\\n        <tbody id=\"tbody-content\">\\r\\n        </tbody>\\r\\n      </table>\\r\\n      </div>\\r\\n\\r\\n  <script id=\"file-or-folder\" type=\"text/x-handlebars-template\">\\r\\n    <tr>\\r\\n      {{#if isFolder}}\\r\\n        <td><i class=\"icon-chevron-down i-expand-collapse\" style=\"margin-left:calc(({{numLevels}} - 1) * 16px)\");></i><i class=\"icon-folder-open i-file-or-folder\" style=\"margin-left:4px;\"></i>\\r\\n        {{simpleFilename}}</td>\\r\\n      {{else}}\\r\\n        <td><i class=\"icon-file i-file-or-folder\"  style=\"margin-left:calc(({{numLevels}} * 16px) + 4px);\"></i>\\r\\n        <a href=\"{{url}}\">{{simpleFilename}}</a></td>\\r\\n      {{/if}}\\r\\n      <td>{{friendlyLastModified}}</td>\\r\\n\\r\\n      <td>{{friendlySizeName}}</td>\\r\\n      <td>{{type}}</td>\\r\\n    </tr>\\r\\n  </script>\\r\\n    <script>\\r\\n    (function($){\\r\\n      \"use strict\";\\r\\n      var FOLDER_PATTERN = new RegExp(\\'_\\\\\\\\$folder\\\\\\\\$$\\');\\r\\n      var TYPE_PATTERN = new RegExp(\\'\\\\\\\\.([^\\\\\\\\.\\\\\\\\s]{1,10})$\\');\\r\\n        var KB = 1024;\\r\\n        var MB = 1000000;\\r\\n        var GB = 1000000000;\\r\\n\\r\\n    // replace last /index.html to get bucket root\\r\\n      var bucketUrl = document.location.href.replace(/\\\\/[^\\\\/]+$/, \\'\\');\\r\\n        var compiledTemplate;\\r\\n\\r\\n    // return e.g. 1.2KB, 1.3MB, 2GB, etc.\\r\\n      function toFriendlySizeName(size){\\r\\n        if (size === 0) {\\r\\n          return \\'\\';\\r\\n        } else if (size < KB) {\\r\\n          return size + \\' B\\';\\r\\n        } else if (size < MB) {\\r\\n          return (size / KB).toFixed(0) + \\' KB\\';\\r\\n        } else if (size < GB) {\\r\\n          return (size / MB).toFixed(2) + \\' MB\\';\\r\\n        }\\r\\n        return (size / GB).toFixed(2) + \\' GB\\';\\r\\n      }\\r\\n\\r\\n\\r\\n      // POJO describing a file or a folder\\r\\n      function FileOrFolder(lastModified, etag, size, key){\\r\\n        var self = this;\\r\\n\\r\\n        self.lastModified = lastModified;\\r\\n        self.etag = etag;\\r\\n        self.size = size;\\r\\n        self.key = key;\\r\\n\\r\\n        // init logic\\r\\n        self.isFolder = FOLDER_PATTERN.test(self.key);\\r\\n        self.filename = self.isFolder ? self.key.replace(FOLDER_PATTERN,\\'\\') : self.key;\\r\\n        self.url = bucketUrl + \\'/\\' + self.key;\\r\\n        self.levels = self.filename.split(\\'/\\');\\r\\n        self.numLevels = self.levels.length;\\r\\n        self.simpleFilename = self.levels[self.numLevels - 1];\\r\\n        self.friendlySizeName = toFriendlySizeName(parseInt(self.size,10));\\r\\n        var foundTypes = TYPE_PATTERN.exec(self.simpleFilename);\\r\\n        self.type = self.isFolder ? \\'Folder \\' : (foundTypes ? (foundTypes[1].toUpperCase() + \\' file\\') : \\'Unknown\\');\\r\\n        self.friendlyLastModified = moment(lastModified).format(\\'MMM Do YYYY, hh:mm:ss a\\');\\r\\n      }\\r\\n\\r\\n        function onAjaxSuccess(xml) {\\r\\n            var listBucketResult = $(xml).find(\\'ListBucketResult\\');\\r\\n\\r\\n            // set a reasonable title instead of \"Bucket loading\"\\r\\n            var title = \\'Index of bucket \"\\' + listBucketResult.find(\\'Name\\').text() + \\'\"\\';\\r\\n            document.title = title;\\r\\n            $(\\'#h1-title\\').text(title);\\r\\n\\r\\n            var $tbodyContent = $(\\'#tbody-content\\');\\r\\n\\r\\n            // create the file or folder objects\\r\\n\\r\\n            var filesOrFolders = [];\\r\\n\\r\\n            listBucketResult.find(\\'Contents\\').each(function(idx, element){\\r\\n\\r\\n                var $element = $(element);\\r\\n\\r\\n                var fileOrFolder = new FileOrFolder(\\r\\n                     $element.find(\\'LastModified\\').text(),\\r\\n                     $element.find(\\'ETag\\').text(),\\r\\n                     $element.find(\\'Size\\').text(),\\r\\n                     $element.find(\\'Key\\').text()\\r\\n                );\\r\\n\\r\\n                filesOrFolders.push(fileOrFolder);\\r\\n            });\\r\\n\\r\\n            // sort\\r\\n            filesOrFolders.sort(function(left, right){\\r\\n                if (left.levels === right.levels) {\\r\\n                    return 0;\\r\\n                } else if (left.levels < right.levels) {\\r\\n                    return -1;\\r\\n                }\\r\\n                return 1;\\r\\n            });\\r\\n\\r\\n            // fill in the rows\\r\\n            var str = \\'\\';\\r\\n            for (var i = 0; i < filesOrFolders.length; i ++) {\\r\\n                str += compiledTemplate(filesOrFolders[i]);\\r\\n            }\\r\\n            $tbodyContent.append(str);\\r\\n            $(\\'.hide-while-loading\\').show();\\r\\n        }\\r\\n\\r\\n        $.ajax({\\r\\n         url: bucketUrl,\\r\\n         success: onAjaxSuccess\\r\\n        });\\r\\n\\r\\n    // compile while ajax is in progress\\r\\n        compiledTemplate = Handlebars.compile($(\\'#file-or-folder\\').html());\\r\\n\\r\\n    })(jQuery);\\r\\n    </script>\\r\\n    </body>\\r\\n</html>'"
      ]
     },
     "execution_count": 15,
     "metadata": {},
     "output_type": "execute_result"
    }
   ],
   "source": [
    "# execute 'content' function\n",
    "# this will spit out a lot of text\n",
    "response.content"
   ]
  },
  {
   "cell_type": "code",
   "execution_count": 17,
   "id": "0e68bd9b-27a5-4365-9e33-5405552e1cd8",
   "metadata": {},
   "outputs": [],
   "source": [
    "# Turn the undecoded content into \n",
    "# a Beautiful Soup object and assign it to a variable\n",
    "soup = BeautifulSoup(response.content)"
   ]
  },
  {
   "cell_type": "code",
   "execution_count": 18,
   "id": "24f50692-04b1-4330-863c-a583ca4b4f18",
   "metadata": {
    "tags": []
   },
   "outputs": [
    {
     "data": {
      "text/plain": [
       "<html>\n",
       "<head>\n",
       "<!--\n",
       "\n",
       "  Amazon S3 Bucket listing.\n",
       "\n",
       "\n",
       "  Copyright (C) 2008 Francesco Pasqualini\n",
       "\n",
       "      This program is free software: you can redistribute it and/or modify\n",
       "      it under the terms of the GNU General Public License as published by\n",
       "      the Free Software Foundation, either version 3 of the License, or\n",
       "      (at your option) any later version.\n",
       "\n",
       "      This program is distributed in the hope that it will be useful,\n",
       "      but WITHOUT ANY WARRANTY; without even the implied warranty of\n",
       "      MERCHANTABILITY or FITNESS FOR A PARTICULAR PURPOSE.  See the\n",
       "      GNU General Public License for more details.\n",
       "\n",
       "      You should have received a copy of the GNU General Public License\n",
       "      along with this program.  If not, see <http://www.gnu.org/licenses/>.\n",
       "\n",
       "  -->\n",
       "<!--\n",
       "\n",
       "  Modified by Nolan Lawson!  (http://nolanlawson.com).  I'm keeping the spirit of the\n",
       "  GPL alive by issuing this with the same license!\n",
       "\n",
       "  -->\n",
       "<title>Bucket loading...</title>\n",
       "<link href=\"//netdna.bootstrapcdn.com/bootstrap/2.3.2/css/bootstrap.min.css\" rel=\"stylesheet\"/>\n",
       "<style>\n",
       "        .hide-while-loading {\n",
       "          display:none;\n",
       "        }\n",
       "        .i-expand-collapse {\n",
       "          opacity: 0.3;\n",
       "        }\n",
       "        .i-file-or-folder {\n",
       "          margin-right: 4px;\n",
       "        }\n",
       "      </style>\n",
       "<script src=\"//ajax.googleapis.com/ajax/libs/jquery/1.8.3/jquery.min.js\"></script>\n",
       "<script src=\"//cdnjs.cloudflare.com/ajax/libs/handlebars.js/1.1.2/handlebars.min.js\"></script>\n",
       "<script src=\"//cdnjs.cloudflare.com/ajax/libs/moment.js/2.4.0/moment.min.js\"></script>\n",
       "</head>\n",
       "<body>\n",
       "<div class=\"container\">\n",
       "<h1 id=\"h1-title\">Bucket loading...</h1>\n",
       "<table class=\"hide-while-loading table table-striped\">\n",
       "<thead>\n",
       "<tr>\n",
       "<th>Name</th>\n",
       "<th>Date Modified</th>\n",
       "<th>Size</th>\n",
       "<th>Type</th>\n",
       "</tr>\n",
       "</thead>\n",
       "<tbody id=\"tbody-content\">\n",
       "</tbody>\n",
       "</table>\n",
       "</div>\n",
       "<script id=\"file-or-folder\" type=\"text/x-handlebars-template\">\n",
       "    <tr>\n",
       "      {{#if isFolder}}\n",
       "        <td><i class=\"icon-chevron-down i-expand-collapse\" style=\"margin-left:calc(({{numLevels}} - 1) * 16px)\");></i><i class=\"icon-folder-open i-file-or-folder\" style=\"margin-left:4px;\"></i>\n",
       "        {{simpleFilename}}</td>\n",
       "      {{else}}\n",
       "        <td><i class=\"icon-file i-file-or-folder\"  style=\"margin-left:calc(({{numLevels}} * 16px) + 4px);\"></i>\n",
       "        <a href=\"{{url}}\">{{simpleFilename}}</a></td>\n",
       "      {{/if}}\n",
       "      <td>{{friendlyLastModified}}</td>\n",
       "\n",
       "      <td>{{friendlySizeName}}</td>\n",
       "      <td>{{type}}</td>\n",
       "    </tr>\n",
       "  </script>\n",
       "<script>\n",
       "    (function($){\n",
       "      \"use strict\";\n",
       "      var FOLDER_PATTERN = new RegExp('_\\\\$folder\\\\$$');\n",
       "      var TYPE_PATTERN = new RegExp('\\\\.([^\\\\.\\\\s]{1,10})$');\n",
       "        var KB = 1024;\n",
       "        var MB = 1000000;\n",
       "        var GB = 1000000000;\n",
       "\n",
       "    // replace last /index.html to get bucket root\n",
       "      var bucketUrl = document.location.href.replace(/\\/[^\\/]+$/, '');\n",
       "        var compiledTemplate;\n",
       "\n",
       "    // return e.g. 1.2KB, 1.3MB, 2GB, etc.\n",
       "      function toFriendlySizeName(size){\n",
       "        if (size === 0) {\n",
       "          return '';\n",
       "        } else if (size < KB) {\n",
       "          return size + ' B';\n",
       "        } else if (size < MB) {\n",
       "          return (size / KB).toFixed(0) + ' KB';\n",
       "        } else if (size < GB) {\n",
       "          return (size / MB).toFixed(2) + ' MB';\n",
       "        }\n",
       "        return (size / GB).toFixed(2) + ' GB';\n",
       "      }\n",
       "\n",
       "\n",
       "      // POJO describing a file or a folder\n",
       "      function FileOrFolder(lastModified, etag, size, key){\n",
       "        var self = this;\n",
       "\n",
       "        self.lastModified = lastModified;\n",
       "        self.etag = etag;\n",
       "        self.size = size;\n",
       "        self.key = key;\n",
       "\n",
       "        // init logic\n",
       "        self.isFolder = FOLDER_PATTERN.test(self.key);\n",
       "        self.filename = self.isFolder ? self.key.replace(FOLDER_PATTERN,'') : self.key;\n",
       "        self.url = bucketUrl + '/' + self.key;\n",
       "        self.levels = self.filename.split('/');\n",
       "        self.numLevels = self.levels.length;\n",
       "        self.simpleFilename = self.levels[self.numLevels - 1];\n",
       "        self.friendlySizeName = toFriendlySizeName(parseInt(self.size,10));\n",
       "        var foundTypes = TYPE_PATTERN.exec(self.simpleFilename);\n",
       "        self.type = self.isFolder ? 'Folder ' : (foundTypes ? (foundTypes[1].toUpperCase() + ' file') : 'Unknown');\n",
       "        self.friendlyLastModified = moment(lastModified).format('MMM Do YYYY, hh:mm:ss a');\n",
       "      }\n",
       "\n",
       "        function onAjaxSuccess(xml) {\n",
       "            var listBucketResult = $(xml).find('ListBucketResult');\n",
       "\n",
       "            // set a reasonable title instead of \"Bucket loading\"\n",
       "            var title = 'Index of bucket \"' + listBucketResult.find('Name').text() + '\"';\n",
       "            document.title = title;\n",
       "            $('#h1-title').text(title);\n",
       "\n",
       "            var $tbodyContent = $('#tbody-content');\n",
       "\n",
       "            // create the file or folder objects\n",
       "\n",
       "            var filesOrFolders = [];\n",
       "\n",
       "            listBucketResult.find('Contents').each(function(idx, element){\n",
       "\n",
       "                var $element = $(element);\n",
       "\n",
       "                var fileOrFolder = new FileOrFolder(\n",
       "                     $element.find('LastModified').text(),\n",
       "                     $element.find('ETag').text(),\n",
       "                     $element.find('Size').text(),\n",
       "                     $element.find('Key').text()\n",
       "                );\n",
       "\n",
       "                filesOrFolders.push(fileOrFolder);\n",
       "            });\n",
       "\n",
       "            // sort\n",
       "            filesOrFolders.sort(function(left, right){\n",
       "                if (left.levels === right.levels) {\n",
       "                    return 0;\n",
       "                } else if (left.levels < right.levels) {\n",
       "                    return -1;\n",
       "                }\n",
       "                return 1;\n",
       "            });\n",
       "\n",
       "            // fill in the rows\n",
       "            var str = '';\n",
       "            for (var i = 0; i < filesOrFolders.length; i ++) {\n",
       "                str += compiledTemplate(filesOrFolders[i]);\n",
       "            }\n",
       "            $tbodyContent.append(str);\n",
       "            $('.hide-while-loading').show();\n",
       "        }\n",
       "\n",
       "        $.ajax({\n",
       "         url: bucketUrl,\n",
       "         success: onAjaxSuccess\n",
       "        });\n",
       "\n",
       "    // compile while ajax is in progress\n",
       "        compiledTemplate = Handlebars.compile($('#file-or-folder').html());\n",
       "\n",
       "    })(jQuery);\n",
       "    </script>\n",
       "</body>\n",
       "</html>"
      ]
     },
     "execution_count": 18,
     "metadata": {},
     "output_type": "execute_result"
    }
   ],
   "source": [
    "# check contents of the `soup` object\n",
    "soup"
   ]
  },
  {
   "cell_type": "code",
   "execution_count": 20,
   "id": "dc4888ae-1ec0-4e32-9d40-b22884eed872",
   "metadata": {},
   "outputs": [
    {
     "data": {
      "text/plain": [
       "bs4.BeautifulSoup"
      ]
     },
     "execution_count": 20,
     "metadata": {},
     "output_type": "execute_result"
    }
   ],
   "source": [
    "# the `soup` object is a BeautifulSoup object\n",
    "type(soup)"
   ]
  },
  {
   "cell_type": "code",
   "execution_count": 21,
   "id": "74e18d9e-f6bd-4d93-aa74-8a111a38b815",
   "metadata": {},
   "outputs": [],
   "source": [
    "# find 'href' which has the download link\n",
    "soup.find('href', class_='<a href=\"https://s3.amazonaws.com/tripdata/201306-citibike-tripdata.zip\">201306-citibike-tripdata.zip</a>')"
   ]
  },
  {
   "cell_type": "code",
   "execution_count": 5,
   "id": "8defebe8-256a-40db-b59e-2e66b58837db",
   "metadata": {},
   "outputs": [],
   "source": [
    "# url of the citibike tripdata\n",
    "url = \"https://s3.amazonaws.com/tripdata/index.html\"\n",
    "\n",
    "# Make a GET request to the webpage\n",
    "response = requests.get(url)\n",
    "\n",
    "# Create a BeautifulSoup object to parse the HTML\n",
    "soup = BeautifulSoup(response.text, \"html.parser\")\n",
    "\n",
    "# Find the links or elements that contain the files you want to download\n",
    "file_links = soup.find_all(\"a\", href=True)  # Modify the find_all() method to match the specific elements containing the files\n",
    "\n",
    "# Iterate over the file links and download each file\n",
    "for link in file_links:\n",
    "    file_url = link[\"href\"]\n",
    "    file_name = file_url.split(\"/\")[-1]  # Extract the file name from the URL\n",
    "\n",
    "    # Send a GET request to the file URL and save the content to a file\n",
    "    file_response = requests.get(file_url)\n",
    "    with open(file_name, \"wb\") as file:\n",
    "        file.write(file_response.content)\n",
    "        print(f\"Downloaded: {file_name}\")"
   ]
  },
  {
   "cell_type": "code",
   "execution_count": null,
   "id": "011b39aa-e153-4670-8587-6fad3a1a8b6b",
   "metadata": {},
   "outputs": [],
   "source": []
  }
 ],
 "metadata": {
  "kernelspec": {
   "display_name": "deeplearning",
   "language": "python",
   "name": "deeplearning"
  },
  "language_info": {
   "codemirror_mode": {
    "name": "ipython",
    "version": 3
   },
   "file_extension": ".py",
   "mimetype": "text/x-python",
   "name": "python",
   "nbconvert_exporter": "python",
   "pygments_lexer": "ipython3",
   "version": "3.8.15"
  }
 },
 "nbformat": 4,
 "nbformat_minor": 5
}
