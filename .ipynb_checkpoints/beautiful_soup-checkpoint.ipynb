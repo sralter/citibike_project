{
 "cells": [
  {
   "cell_type": "markdown",
   "id": "2db7c15e-2304-4e8c-aded-81b60899110b",
   "metadata": {},
   "source": [
    "# Citibike Project"
   ]
  },
  {
   "cell_type": "markdown",
   "id": "0b60525d-2138-4227-bae9-fccfc119d23f",
   "metadata": {},
   "source": [
    "My goal is to use the [Citibike dataset](https://ride.citibikenyc.com/system-data) as the subject with which to practice my SQL and Python skills."
   ]
  },
  {
   "cell_type": "markdown",
   "id": "19e70295-2c38-426c-a1f8-2bb38d279ba9",
   "metadata": {},
   "source": [
    "## Imports"
   ]
  },
  {
   "cell_type": "code",
   "execution_count": 1,
   "id": "a70b1f16-ab15-4db7-96a3-b7510382dcad",
   "metadata": {},
   "outputs": [],
   "source": [
    "import requests\n",
    "from bs4 import BeautifulSoup"
   ]
  },
  {
   "cell_type": "code",
   "execution_count": null,
   "id": "8defebe8-256a-40db-b59e-2e66b58837db",
   "metadata": {},
   "outputs": [],
   "source": []
  }
 ],
 "metadata": {
  "kernelspec": {
   "display_name": "deeplearning",
   "language": "python",
   "name": "deeplearning"
  },
  "language_info": {
   "codemirror_mode": {
    "name": "ipython",
    "version": 3
   },
   "file_extension": ".py",
   "mimetype": "text/x-python",
   "name": "python",
   "nbconvert_exporter": "python",
   "pygments_lexer": "ipython3",
   "version": "3.8.15"
  }
 },
 "nbformat": 4,
 "nbformat_minor": 5
}
