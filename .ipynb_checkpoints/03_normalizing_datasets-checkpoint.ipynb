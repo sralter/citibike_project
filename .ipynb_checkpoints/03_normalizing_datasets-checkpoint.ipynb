{
 "cells": [
  {
   "cell_type": "markdown",
   "id": "9933d7fd-2f00-46e7-97e4-521f3280ee62",
   "metadata": {},
   "source": [
    "# Citibike Project - Normalizing the Datasets"
   ]
  },
  {
   "cell_type": "markdown",
   "id": "9786d426-8c89-4b51-88e4-a2715742fc6d",
   "metadata": {},
   "source": [
    "Normalizing the bike share datsets from `03_normalizing_datasets.ipynb` to prepare for SQL database creation."
   ]
  },
  {
   "cell_type": "code",
   "execution_count": 1,
   "id": "9d3344b1-752c-43af-ac57-33c93ad680a9",
   "metadata": {},
   "outputs": [],
   "source": [
    "import polars"
   ]
  },
  {
   "cell_type": "markdown",
   "id": "9e759a58-947f-4e55-ab9a-dfeb22e7374c",
   "metadata": {},
   "source": [
    "Use the `polars` package to manipulate the large dataframes, `group1` and `group2`."
   ]
  },
  {
   "cell_type": "code",
   "execution_count": 2,
   "id": "a88bf257-d1a3-4f94-be71-3a43225fc7f6",
   "metadata": {},
   "outputs": [],
   "source": [
    "group1_location='/Users/sra/files/projects/citibike_project/combined/group1_combined/group1.csv'\n",
    "group2_location='/Users/sra/files/projects/citibike_project/combined/group2_combined/group2.csv'"
   ]
  },
  {
   "cell_type": "code",
   "execution_count": null,
   "id": "25d0a764-501f-425b-aa9a-6b28369c8e26",
   "metadata": {},
   "outputs": [],
   "source": []
  }
 ],
 "metadata": {
  "kernelspec": {
   "display_name": "bigdataml",
   "language": "python",
   "name": "bigdataml"
  },
  "language_info": {
   "codemirror_mode": {
    "name": "ipython",
    "version": 3
   },
   "file_extension": ".py",
   "mimetype": "text/x-python",
   "name": "python",
   "nbconvert_exporter": "python",
   "pygments_lexer": "ipython3",
   "version": "3.8.16"
  }
 },
 "nbformat": 4,
 "nbformat_minor": 5
}
