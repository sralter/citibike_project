{
 "cells": [
  {
   "cell_type": "markdown",
   "id": "363d79c1-2616-4882-b015-74598af220b4",
   "metadata": {},
   "source": [
    "# Citibike Project - Creating the SQL Database"
   ]
  },
  {
   "cell_type": "markdown",
   "id": "183c816b-8e13-4f82-b42c-38161520d9a7",
   "metadata": {},
   "source": [
    "Combining the bike share datsets downloaded from `02_combining_datasets.ipynb`"
   ]
  },
  {
   "cell_type": "code",
   "execution_count": null,
   "id": "98cb4653-ccf2-45b0-b6b7-4ebb1512bf98",
   "metadata": {},
   "outputs": [],
   "source": [
    "import pandas as pd\n",
    "import mysql.connector\n",
    "\n",
    "# Create a DataFrame (replace with your actual DataFrame)\n",
    "df = pd.DataFrame({'Name': ['Alice', 'Bob', 'Charlie'],\n",
    "                   'Age': [25, 30, 35],\n",
    "                   'City': ['New York', 'London', 'Paris']})\n",
    "\n",
    "# MySQL connection details\n",
    "host = 'localhost'\n",
    "user = 'your_username'\n",
    "password = 'your_password'\n",
    "database = 'your_database_name'\n",
    "table = 'your_table_name'\n",
    "\n",
    "# Establish a connection to the MySQL server\n",
    "cnx = mysql.connector.connect(host=host, user=user, password=password, database=database)\n",
    "\n",
    "# Create a cursor object to execute SQL queries\n",
    "cursor = cnx.cursor()\n",
    "\n",
    "# Create table query\n",
    "create_table_query = f\"CREATE TABLE {table} (Name VARCHAR(50), Age INT, City VARCHAR(50))\"\n",
    "cursor.execute(create_table_query)\n",
    "\n",
    "# Insert data into the table\n",
    "for _, row in df.iterrows():\n",
    "    insert_query = f\"INSERT INTO {table} (Name, Age, City) VALUES (%s, %s, %s)\"\n",
    "    values = (row['Name'], row['Age'], row['City'])\n",
    "    cursor.execute(insert_query, values)\n",
    "\n",
    "# Commit the changes and close the connection\n",
    "cnx.commit()\n",
    "cursor.close()\n",
    "cnx.close()\n",
    "\n",
    "print(f\"Data has been inserted into table '{table}' in database '{database}'.\")\n"
   ]
  }
 ],
 "metadata": {
  "kernelspec": {
   "display_name": "Python 3 (ipykernel)",
   "language": "python",
   "name": "python3"
  },
  "language_info": {
   "codemirror_mode": {
    "name": "ipython",
    "version": 3
   },
   "file_extension": ".py",
   "mimetype": "text/x-python",
   "name": "python",
   "nbconvert_exporter": "python",
   "pygments_lexer": "ipython3",
   "version": "3.9.16"
  }
 },
 "nbformat": 4,
 "nbformat_minor": 5
}
