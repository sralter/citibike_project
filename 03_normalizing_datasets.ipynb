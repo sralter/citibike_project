{
 "cells": [
  {
   "cell_type": "markdown",
   "id": "9933d7fd-2f00-46e7-97e4-521f3280ee62",
   "metadata": {},
   "source": [
    "# Citibike Project - Normalizing the Datasets"
   ]
  },
  {
   "cell_type": "markdown",
   "id": "9786d426-8c89-4b51-88e4-a2715742fc6d",
   "metadata": {},
   "source": [
    "Normalizing the bike share datsets from `03_normalizing_datasets.ipynb` to prepare for SQL database creation."
   ]
  },
  {
   "cell_type": "code",
   "execution_count": 1,
   "id": "42028afd-5ca5-4fc5-b8a9-ffad33886e2e",
   "metadata": {},
   "outputs": [],
   "source": [
    "import pandas as pd\n",
    "import numpy as np"
   ]
  },
  {
   "cell_type": "markdown",
   "id": "9e759a58-947f-4e55-ab9a-dfeb22e7374c",
   "metadata": {},
   "source": [
    "Use the `polars` package to manipulate the large dataframes, `group1` and `group2`."
   ]
  },
  {
   "cell_type": "code",
   "execution_count": 4,
   "id": "9d3344b1-752c-43af-ac57-33c93ad680a9",
   "metadata": {},
   "outputs": [],
   "source": [
    "import polars as pl"
   ]
  },
  {
   "cell_type": "code",
   "execution_count": 5,
   "id": "a88bf257-d1a3-4f94-be71-3a43225fc7f6",
   "metadata": {},
   "outputs": [],
   "source": [
    "group1_location='/Users/sra/files/projects/citibike_project/combined/group1_combined/group1.csv'\n",
    "group2_location='/Users/sra/files/projects/citibike_project/combined/group2_combined/group2.csv'"
   ]
  },
  {
   "cell_type": "code",
   "execution_count": 28,
   "id": "0b9adc35-79a5-437e-9edd-e557e931e0d4",
   "metadata": {},
   "outputs": [],
   "source": [
    "q=(\n",
    "    pl.scan_csv('/Users/sra/files/projects/citibike_project/combined/group1_combined/group1.csv')\n",
    "    .filter(pl.col('member_casual')=='member')\n",
    "    .groupby('start_station_name')\n",
    "    .with_columns([pl.col('count').count().alias('count')])\n",
    "    .sort(pl.col(''))\n",
    ")\n",
    "\n",
    "df=q.collect()"
   ]
  },
  {
   "cell_type": "code",
   "execution_count": 29,
   "id": "ddd227c7-23e7-4673-a31d-b1a9eefadcf6",
   "metadata": {},
   "outputs": [
    {
     "data": {
      "text/html": [
       "<div><style>\n",
       ".dataframe > thead > tr > th,\n",
       ".dataframe > tbody > tr > td {\n",
       "  text-align: right;\n",
       "}\n",
       "</style>\n",
       "<small>shape: (2_030, 2)</small><table border=\"1\" class=\"dataframe\"><thead><tr><th>start_station_name</th><th>count</th></tr><tr><td>str</td><td>u32</td></tr></thead><tbody><tr><td>&quot;Monroe St &amp; Pa…</td><td>1139</td></tr><tr><td>&quot;W 51 St &amp; 6 Av…</td><td>62725</td></tr><tr><td>&quot;34 Ave &amp; 48 St…</td><td>6548</td></tr><tr><td>&quot;Anderson Ave &amp;…</td><td>2976</td></tr><tr><td>&quot;Morris Ave &amp; E…</td><td>2863</td></tr><tr><td>&quot;30 Ave &amp; 41 St…</td><td>12244</td></tr><tr><td>&quot;Willoughby Ave…</td><td>11650</td></tr><tr><td>&quot;W 148 St &amp; Ams…</td><td>9102</td></tr><tr><td>&quot;Fort Washingto…</td><td>6502</td></tr><tr><td>&quot;Clinton St &amp; C…</td><td>27857</td></tr><tr><td>&quot;Chauncey St &amp; …</td><td>934</td></tr><tr><td>&quot;Stevens - Rive…</td><td>624</td></tr><tr><td>&hellip;</td><td>&hellip;</td></tr><tr><td>&quot;31 St &amp; Hoyt A…</td><td>12506</td></tr><tr><td>&quot;Garrison Ave &amp;…</td><td>1091</td></tr><tr><td>&quot;W 163 St &amp; Edg…</td><td>2991</td></tr><tr><td>&quot;58 St &amp; 2 Ave …</td><td>2145</td></tr><tr><td>&quot;W 37 St &amp; Broa…</td><td>9644</td></tr><tr><td>&quot;E 110 St &amp; Mad…</td><td>20099</td></tr><tr><td>&quot;20 Ave &amp; 33 St…</td><td>1478</td></tr><tr><td>&quot;W 147 St &amp; Ada…</td><td>8612</td></tr><tr><td>&quot;Fulton St &amp; Wi…</td><td>270</td></tr><tr><td>&quot;Henry St &amp; Bay…</td><td>3724</td></tr><tr><td>&quot;Albany Ave &amp; P…</td><td>631</td></tr><tr><td>&quot;W 186 St &amp; St.…</td><td>3558</td></tr></tbody></table></div>"
      ],
      "text/plain": [
       "shape: (2_030, 2)\n",
       "┌─────────────────────────────┬───────┐\n",
       "│ start_station_name          ┆ count │\n",
       "│ ---                         ┆ ---   │\n",
       "│ str                         ┆ u32   │\n",
       "╞═════════════════════════════╪═══════╡\n",
       "│ Monroe St & Patchen Ave     ┆ 1139  │\n",
       "│ W 51 St & 6 Ave             ┆ 62725 │\n",
       "│ 34 Ave & 48 St              ┆ 6548  │\n",
       "│ Anderson Ave & W 164 St     ┆ 2976  │\n",
       "│ …                           ┆ …     │\n",
       "│ Fulton St & Williams Ave    ┆ 270   │\n",
       "│ Henry St & Bay St           ┆ 3724  │\n",
       "│ Albany Ave & Park Pl        ┆ 631   │\n",
       "│ W 186 St & St. Nicholas Ave ┆ 3558  │\n",
       "└─────────────────────────────┴───────┘"
      ]
     },
     "execution_count": 29,
     "metadata": {},
     "output_type": "execute_result"
    }
   ],
   "source": [
    "df"
   ]
  },
  {
   "cell_type": "code",
   "execution_count": 39,
   "id": "5abb5398-2a4f-47d0-8b4a-18e65e47489a",
   "metadata": {},
   "outputs": [],
   "source": [
    "q=(\n",
    "    pl.scan_csv('/Users/sra/files/projects/citibike_project/combined/group1_combined/group1.csv')\n",
    "    .groupby(by='start_station_name').count()\n",
    "    .sort(pl.col('count'),descending=True)\n",
    ")\n",
    "\n",
    "df=q.collect()"
   ]
  },
  {
   "cell_type": "code",
   "execution_count": 40,
   "id": "c203ab63-6909-48c4-b400-f0399cf005cd",
   "metadata": {},
   "outputs": [
    {
     "data": {
      "text/html": [
       "<div><style>\n",
       ".dataframe > thead > tr > th,\n",
       ".dataframe > tbody > tr > td {\n",
       "  text-align: right;\n",
       "}\n",
       "</style>\n",
       "<small>shape: (2_038, 2)</small><table border=\"1\" class=\"dataframe\"><thead><tr><th>start_station_name</th><th>count</th></tr><tr><td>str</td><td>u32</td></tr></thead><tbody><tr><td>&quot;W 21 St &amp; 6 Av…</td><td>247908</td></tr><tr><td>&quot;West St &amp; Cham…</td><td>219580</td></tr><tr><td>&quot;1 Ave &amp; E 68 S…</td><td>208483</td></tr><tr><td>&quot;6 Ave &amp; W 33 S…</td><td>197135</td></tr><tr><td>&quot;Broadway &amp; W 2…</td><td>194687</td></tr><tr><td>&quot;Broadway &amp; E 1…</td><td>190655</td></tr><tr><td>&quot;University Pl …</td><td>186543</td></tr><tr><td>&quot;Cleveland Pl &amp;…</td><td>181162</td></tr><tr><td>&quot;E 33 St &amp; 1 Av…</td><td>178145</td></tr><tr><td>&quot;E 17 St &amp; Broa…</td><td>176587</td></tr><tr><td>&quot;West St &amp; Libe…</td><td>175917</td></tr><tr><td>&quot;Broadway &amp; W 5…</td><td>171468</td></tr><tr><td>&hellip;</td><td>&hellip;</td></tr><tr><td>&quot;Rogers Pl &amp; E …</td><td>11</td></tr><tr><td>&quot;Bleecker St &amp; …</td><td>9</td></tr><tr><td>&quot;W 40 St &amp; 8 Av…</td><td>8</td></tr><tr><td>&quot;E 6 St 2 Ave&quot;</td><td>7</td></tr><tr><td>&quot;Sharon St &amp; Ol…</td><td>4</td></tr><tr><td>&quot;S 5th St &amp; Ken…</td><td>4</td></tr><tr><td>&quot;Grand Concours…</td><td>2</td></tr><tr><td>&quot;MTL-ECO51-1&quot;</td><td>2</td></tr><tr><td>&quot;Anthony Ave &amp; …</td><td>2</td></tr><tr><td>&quot;Pier 40 Dock S…</td><td>2</td></tr><tr><td>&quot;Park Ave Depot…</td><td>1</td></tr><tr><td>&quot;Pier 40 X2&quot;</td><td>1</td></tr></tbody></table></div>"
      ],
      "text/plain": [
       "shape: (2_038, 2)\n",
       "┌──────────────────────────────┬────────┐\n",
       "│ start_station_name           ┆ count  │\n",
       "│ ---                          ┆ ---    │\n",
       "│ str                          ┆ u32    │\n",
       "╞══════════════════════════════╪════════╡\n",
       "│ W 21 St & 6 Ave              ┆ 247908 │\n",
       "│ West St & Chambers St        ┆ 219580 │\n",
       "│ 1 Ave & E 68 St              ┆ 208483 │\n",
       "│ 6 Ave & W 33 St              ┆ 197135 │\n",
       "│ …                            ┆ …      │\n",
       "│ Anthony Ave & E Burnside Ave ┆ 2      │\n",
       "│ Pier 40 Dock Station         ┆ 2      │\n",
       "│ Park Ave Depot               ┆ 1      │\n",
       "│ Pier 40 X2                   ┆ 1      │\n",
       "└──────────────────────────────┴────────┘"
      ]
     },
     "execution_count": 40,
     "metadata": {},
     "output_type": "execute_result"
    }
   ],
   "source": [
    "df"
   ]
  },
  {
   "cell_type": "code",
   "execution_count": null,
   "id": "217943a9-eab9-411d-9bd5-96e213817fb1",
   "metadata": {},
   "outputs": [],
   "source": []
  }
 ],
 "metadata": {
  "kernelspec": {
   "display_name": "bigdataml",
   "language": "python",
   "name": "bigdataml"
  },
  "language_info": {
   "codemirror_mode": {
    "name": "ipython",
    "version": 3
   },
   "file_extension": ".py",
   "mimetype": "text/x-python",
   "name": "python",
   "nbconvert_exporter": "python",
   "pygments_lexer": "ipython3",
   "version": "3.8.16"
  }
 },
 "nbformat": 4,
 "nbformat_minor": 5
}
